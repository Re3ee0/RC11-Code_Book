{
 "cells": [
  {
   "cell_type": "code",
   "execution_count": 13,
   "id": "0f22dd73",
   "metadata": {},
   "outputs": [],
   "source": [
    "import csv\n",
    "import os\n",
    "import networkx as nx\n",
    "import matplotlib.pyplot as plt\n",
    "from pyvis.network import Network\n",
    "os.chdir(\"C:/Users/admin/Desktop/ExerciseSession5\")"
   ]
  },
  {
   "cell_type": "code",
   "execution_count": 14,
   "id": "7fb8cca1",
   "metadata": {},
   "outputs": [],
   "source": [
    "class Player:\n",
    "    def __init__(self, name, state, collage,label):\n",
    "        self.name = name\n",
    "        self.state = state\n",
    "        self.collage = collage\n",
    "        self.label = label"
   ]
  },
  {
   "cell_type": "code",
   "execution_count": 15,
   "id": "ae259f22",
   "metadata": {},
   "outputs": [],
   "source": [
    "nbaPlayers = []\n",
    "with open(\"Players.csv\") as PlayerData:\n",
    "    reader = csv.DictReader(PlayerData)\n",
    "    for row in reader:\n",
    "        name = row['name']\n",
    "        state = row['state']\n",
    "        collage = row['collage']\n",
    "        label = name + '--' + '\"' + state +'\"' \n",
    "        nbaPlayers.append(Player(name, state, collage,label))"
   ]
  },
  {
   "cell_type": "code",
   "execution_count": 16,
   "id": "0c2eed81",
   "metadata": {},
   "outputs": [],
   "source": [
    "PlayerGraph = nx.Graph()"
   ]
  },
  {
   "cell_type": "code",
   "execution_count": 17,
   "id": "40836181",
   "metadata": {},
   "outputs": [],
   "source": [
    "playerInfo = nbaPlayers[0:100]"
   ]
  },
  {
   "cell_type": "code",
   "execution_count": 18,
   "id": "838f07d2",
   "metadata": {},
   "outputs": [],
   "source": [
    "for f in playerInfo:\n",
    "    PlayerGraph.add_node(f.label, label = f.label,size= 10, color='blue')"
   ]
  },
  {
   "cell_type": "code",
   "execution_count": 19,
   "id": "f0d1b9f5",
   "metadata": {},
   "outputs": [],
   "source": [
    "for f1 in playerInfo:\n",
    "    for f2 in playerInfo:\n",
    "        if not f1 == f2:\n",
    "            if f1.state == f2.state:\n",
    "                PlayerGraph.add_edge(f1.label,f2.label,weight=3,color='orange')\n",
    "            if f1.collage == f2.collage:\n",
    "                PlayerGraph.add_edge(f1.label,f2.label,weight=3,color='pink')"
   ]
  },
  {
   "cell_type": "code",
   "execution_count": 20,
   "id": "87823d87",
   "metadata": {},
   "outputs": [
    {
     "name": "stdout",
     "output_type": "stream",
     "text": [
      "{'Marquese Chriss--\"California\"': 0.08080808080808081, 'Jamal Murray--\"Canada\"': 0.17171717171717174, 'Henry Ellenson--\"Wisconsin\"': 0.030303030303030304, 'Diamond Stone--\"Wisconsin\"': 0.04040404040404041, 'Brandon Ingram--\"North Carolina\"': 0.07070707070707072, 'Wade Baldwin--\"New Jersey\"': 0.020202020202020204, 'Tyus Jones--\"Minnesota\"': 0.06060606060606061, 'Tyler Ulis--\"Michigan\"': 0.16161616161616163, 'Stephen Zimmerman--\"Tennessee\"': 0.05050505050505051, 'Skal Labissiere--\"Haiti\"': 0.14141414141414144, 'Rashad Vaughn--\"Minnesota\"': 0.04040404040404041, 'Myles Turner--\"Texas\"': 0.07070707070707072, 'Malik Beasley--\"Georgia\"': 0.030303030303030304, 'Malachi Richardson--\"New Jersey\"': 0.06060606060606061, 'Kevon Looney--\"Wisconsin\"': 0.07070707070707072, 'Justise Winslow--\"Texas\"': 0.11111111111111112, 'Domantas Sabonis--\"Oregon\"': 0.020202020202020204, 'Deyonta Davis--\"Michigan\"': 0.05050505050505051, 'Devin Booker--\"Michigan\"': 0.16161616161616163, 'Dejounte Murray--\"Washington\"': 0.030303030303030304, 'Chinanu Onuaku--\"Maryland\"': 0.020202020202020204, 'Cheick Diallo--\"Mali\"': 0.05050505050505051, 'Zach LaVine--\"Washington\"': 0.06060606060606061, 'Trey Lyles--\"Canada\"': 0.17171717171717174, 'Rondae Hollis-Jefferson--\"Pennsylvania\"': 0.030303030303030304, 'Patrick McCaw--\"Missouri\"': 0.04040404040404041, 'Noah Vonleh--\"Massachusetts\"': 0.06060606060606061, 'Kelly Oubre--\"Louisiana\"': 0.08080808080808081, 'Kay Felder--\"Michigan\"': 0.04040404040404041, 'Karl-Anthony Towns--\"New Jersey\"': 0.16161616161616163, 'James Young--\"Michigan\"': 0.16161616161616163, 'Jahlil Okafor--\"Illinois\"': 0.08080808080808081, 'Jabari Parker--\"Illinois\"': 0.08080808080808081, 'Isaiah Whitehead--\"New York\"': 0.04040404040404041, 'Cliff Alexander--\"Illinois\"': 0.09090909090909091, 'Christian Wood--\"California\"': 0.09090909090909091, 'Chris McCullough--\"New York\"': 0.08080808080808081, 'Bobby Portis--\"Arkansas\"': 0.010101010101010102, 'Andrew Wiggins--\"Canada\"': 0.09090909090909091, 'Aaron Gordon--\"California\"': 0.07070707070707072, 'Wayne Selden--\"Massachusetts\"': 0.10101010101010102, 'Tyler Ennis--\"Canada\"': 0.08080808080808081, 'Tim Quarterman--\"Georgia\"': 0.06060606060606061, 'Terry Rozier--\"Ohio\"': 0.030303030303030304, 'Sam Dekker--\"Wisconsin\"': 0.030303030303030304, 'Pascal Siakam--\"Cameroon\"': 0.010101010101010102, 'Nerlens Noel--\"Massachusetts\"': 0.19191919191919193, 'Montrezl Harrell--\"North Carolina\"': 0.04040404040404041, 'Mike Tobey--\"New York\"': 0.05050505050505051, 'Marcus Smart--\"Texas\"': 0.06060606060606061, 'Marcus Georges-Hunt--\"Florida\"': 0.0, 'Kris Dunn--\"Connecticut\"': 0.0, 'Julius Randle--\"Texas\"': 0.18181818181818182, 'Jordan Mickey--\"Texas\"': 0.09090909090909091, 'Jordan Adams--\"Georgia\"': 0.07070707070707072, 'Joel Embiid--\"Cameroon\"': 0.06060606060606061, 'Joel Bolomboy--\"Ukraine\"': 0.0, 'Jerian Grant--\"Oregon\"': 0.05050505050505051, 'Jerami Grant--\"Oregon\"': 0.05050505050505051, 'Jarnell Stokes--\"Tennessee\"': 0.030303030303030304, 'Jarell Martin--\"Louisiana\"': 0.06060606060606061, 'Jake Layman--\"Massachusetts\"': 0.06060606060606061, 'Isaiah Taylor--\"California\"': 0.07070707070707072, 'Gary Harris--\"Indiana\"': 0.04040404040404041, 'Fred VanVleet--\"Illinois\"': 0.05050505050505051, 'Elfrid Payton--\"Louisiana\"': 0.030303030303030304, 'Demetrius Jackson--\"Indiana\"': 0.04040404040404041, 'DeAndre\\' Bembry--\"North Carolina\"': 0.020202020202020204, 'Caris LeVert--\"Ohio\"': 0.020202020202020204, 'Cameron Payne--\"Tennessee\"': 0.020202020202020204, 'Archie Goodwin--\"Arkansas\"': 0.15151515151515152, 'Andrew Harrison--\"Texas\"': 0.18181818181818182, 'Aaron Harrison--\"Texas\"': 0.18181818181818182, 'Yogi Ferrell--\"Indiana\"': 0.04040404040404041, 'Willie Cauley-Stein--\"Kansas\"': 0.15151515151515152, 'Treveon Graham--\"District of Columbia\"': 0.010101010101010102, 'Tony Wroten--\"Washington\"': 0.030303030303030304, 'Steven Adams--\"New Zealand\"': 0.0, 'Spencer Dinwiddie--\"California\"': 0.06060606060606061, 'Shawn Long--\"Louisiana\"': 0.030303030303030304, 'Ron Baker--\"Kansas\"': 0.020202020202020204, 'Richaun Holmes--\"Illinois\"': 0.04040404040404041, 'Quinn Cook--\"District of Columbia\"': 0.06060606060606061, 'Patricio Garino--\"Argentina\"': 0.0, 'Pat Connaughton--\"Massachusetts\"': 0.06060606060606061, 'Otto Porter--\"Missouri\"': 0.010101010101010102, 'Norman Powell--\"California\"': 0.10101010101010102, 'Nik Stauskas--\"Canada\"': 0.05050505050505051, 'Michael Kidd-Gilchrist--\"Pennsylvania\"': 0.15151515151515152, 'Maurice Harkless--\"New York\"': 0.04040404040404041, 'Marquis Teague--\"Indiana\"': 0.17171717171717174, 'Luis Montero--\"Dominican Republic\"': 0.0, 'Kyle Anderson--\"New York\"': 0.08080808080808081, 'Kentavious Caldwell-Pope--\"Georgia\"': 0.030303030303030304, 'Justin Anderson--\"Virginia\"': 0.010101010101010102, 'Josh Richardson--\"Oklahoma\"': 0.010101010101010102, 'Johnny O\\'Bryant--\"Mississippi\"': 0.030303030303030304, 'Jarrod Uthoff--\"Iowa\"': 0.0, 'Grant Jerrett--\"California\"': 0.07070707070707072, 'Georges Niang--\"Massachusetts\"': 0.05050505050505051}\n"
     ]
    }
   ],
   "source": [
    "centrality = nx.degree_centrality(PlayerGraph)\n",
    "print(centrality)"
   ]
  },
  {
   "cell_type": "code",
   "execution_count": 21,
   "id": "8a897fae",
   "metadata": {},
   "outputs": [],
   "source": [
    "PlayerGraph2 = nx.Graph()"
   ]
  },
  {
   "cell_type": "code",
   "execution_count": 22,
   "id": "cdf17a09",
   "metadata": {},
   "outputs": [],
   "source": [
    "for f in playerInfo:\n",
    "    PlayerGraph2.add_node(f.label, label = f.label, size = int(1000 * float('%.5f' %centrality[f.label])), color = '#b1d1fc')"
   ]
  },
  {
   "cell_type": "code",
   "execution_count": 23,
   "id": "cd7aee48",
   "metadata": {},
   "outputs": [],
   "source": [
    "for f1 in playerInfo:\n",
    "    for f2 in playerInfo:\n",
    "        if not f1 == f2:\n",
    "            if f1.state == f2.state:\n",
    "                PlayerGraph2.add_edge(f1.label,f2.label,value = 3,color='orange')\n",
    "            if f1.collage == f2.collage:\n",
    "                PlayerGraph2.add_edge(f1.label,f2.label,value = 6,color='pink')"
   ]
  },
  {
   "cell_type": "code",
   "execution_count": 24,
   "id": "67215ace",
   "metadata": {},
   "outputs": [],
   "source": [
    "from pyvis.network import Network\n",
    "nt = Network('1080px', '1920px')\n",
    "nt.barnes_hut()\n",
    "nt.from_nx(PlayerGraph2)\n",
    "nt.show_buttons(filter_=['physics'])\n",
    "nt.show('nx2.html')"
   ]
  }
 ],
 "metadata": {
  "kernelspec": {
   "display_name": "Python 3 (ipykernel)",
   "language": "python",
   "name": "python3"
  },
  "language_info": {
   "codemirror_mode": {
    "name": "ipython",
    "version": 3
   },
   "file_extension": ".py",
   "mimetype": "text/x-python",
   "name": "python",
   "nbconvert_exporter": "python",
   "pygments_lexer": "ipython3",
   "version": "3.8.12"
  }
 },
 "nbformat": 4,
 "nbformat_minor": 5
}
