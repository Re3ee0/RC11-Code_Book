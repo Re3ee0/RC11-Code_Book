{
 "cells": [
  {
   "cell_type": "markdown",
   "metadata": {},
   "source": [
    "# Exercises - Complexity"
   ]
  },
  {
   "cell_type": "markdown",
   "metadata": {},
   "source": [
    "## Exercise 1.\n",
    "Suppose we have a computer which can perform 1 million (= $10^6$) operations per second. \n",
    "\n",
    "The formulas below denote the running time of some algorithms (in number of operations) depending on the number of elements $n$ we feed to the algorithm. Determine for each algorithm how many elements can be processed in 1 minute.\n",
    "\n",
    "1. $n$\n",
    "2. $n^2$\n",
    "3. $n^3$\n",
    "4. $n!$ _(This is called n factorial)_\n",
    "5. $n*lg(n)$\n",
    "6. $2^n$\n",
    "7. $\\sqrt n$\n",
    "8. $n^{50}$\n",
    "9. $2^n$\n"
   ]
  },
  {
   "cell_type": "markdown",
   "metadata": {},
   "source": [
    "answer here\n",
    "1.  6x$10^7$\n",
    "2. 2x$10^3$$\\sqrt 15$\n",
    "3. $10^2$$\\sqrt[3] 60$\n",
    "4. 11 11!=39 916 800 12!=479 001 600>6x$10^7$\n",
    "5. 8649296     \n",
    "$8649296*lg（8649296）$=59 999 999.939358 $8649297*lg86492976$=60 000 007.310633>6*$10^7$\n",
    "6. 25.838459——>25\n",
    "7. 6x$10^{14}$\n",
    "8. 1.430748——>1\n",
    "9. 25.838459——>25\n"
   ]
  },
  {
   "cell_type": "markdown",
   "metadata": {},
   "source": [
    "## Exercise 2.\n",
    "Sort the functions below following $O(.)$\n",
    "\n",
    "1. $n$\n",
    "2. $10^6 - n^3 + 3n^5$\n",
    "3. $2^n$\n",
    "4. $n^2$\n",
    "5. $n*lg(n)$\n",
    "6. $\\sqrt n$\n",
    "7. $n!$\n"
   ]
  },
  {
   "cell_type": "markdown",
   "metadata": {},
   "source": [
    "answer here\n",
    "\n",
    "\n",
    "$n!$>$10^6 - n^3 + 3n^5$>$2^n$>$n^2$>$n*lg(n)$>n>$\\sqrt n$"
   ]
  },
  {
   "cell_type": "markdown",
   "metadata": {},
   "source": [
    "## Exercise 3.\n",
    "In mathematics, a factorial of a positive integer $n$ is denoted by $n!$. This is the product of all positive integers less than or equal to $n$. This can be given by the following set of equations:\n",
    "\n",
    "- $n! = n * (n-1)!$\n",
    "- $0! = 1$\n",
    "\n",
    "write a recursive function (so a function that calls itself within its definition) that returns the factorial of a number $n$\n"
   ]
  },
  {
   "cell_type": "code",
   "execution_count": 1,
   "metadata": {},
   "outputs": [
    {
     "ename": "SyntaxError",
     "evalue": "invalid syntax (<ipython-input-1-d212b00ca199>, line 1)",
     "output_type": "error",
     "traceback": [
      "\u001b[1;36m  File \u001b[1;32m\"<ipython-input-1-d212b00ca199>\"\u001b[1;36m, line \u001b[1;32m1\u001b[0m\n\u001b[1;33m    answer here\u001b[0m\n\u001b[1;37m           ^\u001b[0m\n\u001b[1;31mSyntaxError\u001b[0m\u001b[1;31m:\u001b[0m invalid syntax\n"
     ]
    }
   ],
   "source": [
    "answer here\n",
    "def  factorial ( n ): \n",
    "    if  n  ==  0 : \n",
    "        return  1 \n",
    "    else : \n",
    "        return  n  *  factorial ( n - 1 )"
   ]
  },
  {
   "cell_type": "markdown",
   "metadata": {},
   "source": [
    "Now comment on what you think the order complexity of the function is. "
   ]
  },
  {
   "cell_type": "markdown",
   "metadata": {},
   "source": [
    "answer here  \n",
    "T(n)=T(n−1)+O(1)  \n",
    "=T(n−2)+2O(1)\n",
    "=...=T(1)+(n−1)O(1)  \n",
    "=O(1)+(n−1)O(1)=O(n)"
   ]
  },
  {
   "cell_type": "markdown",
   "metadata": {},
   "source": [
    "## Exercise 6\n",
    "Give the complexity in $O(.)$ of the following (dummy) algorithms, and explain why.  \n"
   ]
  },
  {
   "cell_type": "code",
   "execution_count": 2,
   "metadata": {},
   "outputs": [],
   "source": [
    "def algorithm1(n):\n",
    "    s = 0             #1\n",
    "    i = 0             #1\n",
    "    while i<n:        #n+1\n",
    "        s += 1        #n\n",
    "        i += 1        #n\n",
    "    return(s,i)       #1"
   ]
  },
  {
   "cell_type": "markdown",
   "metadata": {},
   "source": [
    "answer here         \n",
    "$3n+4——>n$"
   ]
  },
  {
   "cell_type": "code",
   "execution_count": 3,
   "metadata": {},
   "outputs": [],
   "source": [
    "def algorithm2(n):    \n",
    "    s = 0               #1\n",
    "    i = 0               #1\n",
    "    while i<n:          #n+1\n",
    "        j = 0           #n\n",
    "        while j<n:      #n+1\n",
    "            s += 1      #n^2\n",
    "            j += 1      #n^2\n",
    "        i += 1          #n\n",
    "    return(s,i,j)       #1"
   ]
  },
  {
   "cell_type": "markdown",
   "metadata": {},
   "source": [
    "answer here  \n",
    "$2+3n+2+2n^2+n+1=2n^2+4n+5——>n^2$"
   ]
  },
  {
   "cell_type": "code",
   "execution_count": 4,
   "metadata": {},
   "outputs": [],
   "source": [
    "def algorithm3(n):\n",
    "    s = 0                 #1\n",
    "    i = 0                 #1\n",
    "    while i<n:            #n+1\n",
    "        j = 0             #n\n",
    "        while j<n*n:      #n^2+1\n",
    "            s += 1        #n^3\n",
    "            j += 1        #n^3\n",
    "        i += 1            #n\n",
    "    return(s,i,j)         #1"
   ]
  },
  {
   "cell_type": "markdown",
   "metadata": {},
   "source": [
    "answer here  \n",
    "   $2n+4+n^2+2n^3+n+1=5+2n^3+3n+n^2——>n^3$\n"
   ]
  }
 ],
 "metadata": {
  "kernelspec": {
   "display_name": "Python 3",
   "language": "python",
   "name": "python3"
  },
  "language_info": {
   "codemirror_mode": {
    "name": "ipython",
    "version": 3
   },
   "file_extension": ".py",
   "mimetype": "text/x-python",
   "name": "python",
   "nbconvert_exporter": "python",
   "pygments_lexer": "ipython3",
   "version": "3.8.8"
  }
 },
 "nbformat": 4,
 "nbformat_minor": 2
}
