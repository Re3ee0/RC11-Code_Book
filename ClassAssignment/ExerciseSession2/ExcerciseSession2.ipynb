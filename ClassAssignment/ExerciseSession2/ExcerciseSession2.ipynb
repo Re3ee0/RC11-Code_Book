{
 "cells": [
  {
   "cell_type": "markdown",
   "id": "b184ac70",
   "metadata": {},
   "source": [
    "# Exercises 2 #  \n",
    "\n",
    "Python basics\n",
    "\n",
    "### Exercise 1 - Padovan sequence   \n",
    "\n",
    "write a function that prints the n first numbers of the padovan sequence."
   ]
  },
  {
   "cell_type": "code",
   "execution_count": 8,
   "id": "608b2033",
   "metadata": {},
   "outputs": [
    {
     "data": {
      "text/plain": [
       "[1, 1, 1, 2, 2, 3, 4, 5, 7, 9, 12, 16, 21, 28, 37, 49, 65]"
      ]
     },
     "execution_count": 8,
     "metadata": {},
     "output_type": "execute_result"
    }
   ],
   "source": [
    "def makePad(n):\n",
    "    \n",
    "    first,sencon,third,fourth = 1,1,1,1\n",
    "    for i in range(3,n+1):\n",
    "        fourth = first + sec\n",
    "        first = sec\n",
    "        sec = third\n",
    "        third = fourth\n",
    "    return fourth\n",
    "\n",
    "def getPad(n):\n",
    "    lst = [1, 1, 1]  # initialize the list\n",
    "    for i in range(3,n):\n",
    "        lst.append(lst[i-2] + lst[i-3])  \n",
    "    return lst[:n]\n",
    "\n",
    "getPad(17)"
   ]
  },
  {
   "cell_type": "markdown",
   "id": "2dca6935",
   "metadata": {},
   "source": [
    "### Exercise 2 - ASCII Art"
   ]
  },
  {
   "cell_type": "code",
   "execution_count": 19,
   "id": "faf79db5",
   "metadata": {},
   "outputs": [],
   "source": [
    "asciiArt = \"                   \\  |  /         ___________                       ____________  \\ \\_# /         |  ___      |       _________     |            |  \\  #/          | |   |     |      | = = = = |    | |   |   |  |   \\\\#           | |`v'|     |      |         |    |            |    \\#  //       |  --- ___  |      | |  || | |    | |   |   |  |     #_//        |     |   | |      |         |    |            |  \\\\ #_/_______  |     |   | |      | |  || | |    | |   |   |  |   \\\\# /_____/ \\ |      ---  |      |         |    |            |    \\# |+ ++|  | |  |^^^^^^| |      | |  || | |    |            |    \\# |+ ++|  | |  |^^^^^^| |      | |  || | | ^^^|    (^^^^^) |^^^^^#^| H  |_ |^|  | |||| | |^^^^^^|         |    |    ( ||| ) |     # ^^^^^^    |  | |||| | |      | ||||||| |    ^^^^^^^^^^^^^________/  /_____ |  | |||| | |      | ||||||| |         `v'-                      ^^^^^^^^^^^^^      | ||||||| |          || |`.      (__)    (__)                          ( )                        (oo)    (oo)                       /---V                  /-------\\/      \\/ --------\\             * |  |                 / |     ||        ||_______| \\                                  *  ||W---||        ||      ||  *                                    ^^    ^^        ^^      ^^                        \""
   ]
  },
  {
   "cell_type": "code",
   "execution_count": 20,
   "id": "df6ddde2",
   "metadata": {},
   "outputs": [
    {
     "name": "stdout",
     "output_type": "stream",
     "text": [
      "                   \\  |  /         ___________                   \n",
      "    ____________  \\ \\_# /         |  ___      |       _________  \n",
      "   |            |  \\  #/          | |   |     |      | = = = = | \n",
      "   | |   |   |  |   \\#           | |`v'|     |      |         |  \n",
      "  |            |    \\#  //       |  --- ___  |      | |  || | |  \n",
      "  | |   |   |  |     #_//        |     |   | |      |         |  \n",
      "  |            |  \\ #_/_______  |     |   | |      | |  || | |   \n",
      " | |   |   |  |   \\# /_____/ \\ |      ---  |      |         |    \n",
      "|            |    \\# |+ ++|  | |  |^^^^^^| |      | |  || | |    \n",
      "|            |    \\# |+ ++|  | |  |^^^^^^| |      | |  || | | ^^^\n",
      "|    (^^^^^) |^^^^^#^| H  |_ |^|  | |||| | |^^^^^^|         |    \n",
      "|    ( ||| ) |     # ^^^^^^    |  | |||| | |      | ||||||| |    \n",
      "^^^^^^^^^^^^^________/  /_____ |  | |||| | |      | ||||||| |    \n",
      "     `v'-                      ^^^^^^^^^^^^^      | ||||||| |    \n",
      "      || |`.      (__)    (__)                          ( )      \n",
      "                  (oo)    (oo)                       /---V       \n",
      "           /-------\\/      \\/ --------\\             * |  |       \n",
      "          / |     ||        ||_______| \\                         \n",
      "         *  ||W---||        ||      ||  *                        \n",
      "            ^^    ^^        ^^      ^^                        \n"
     ]
    }
   ],
   "source": [
    "asc2Art = []\n",
    "\n",
    "for n in range(0,len(asciiArt),65):\n",
    "    asc2Art.append(asciiArt[n:n+65])\n",
    "    \n",
    "for i in asc2Art:\n",
    "    print(i)"
   ]
  },
  {
   "cell_type": "markdown",
   "id": "7164227e",
   "metadata": {},
   "source": [
    "### Exercise 3 - christmas tree"
   ]
  },
  {
   "cell_type": "code",
   "execution_count": 23,
   "id": "54999875",
   "metadata": {
    "scrolled": false
   },
   "outputs": [
    {
     "name": "stdout",
     "output_type": "stream",
     "text": [
      "        *\n",
      "       ***\n",
      "      *****\n",
      "     *******\n",
      "    *********\n",
      "   ***********\n",
      "  *************\n",
      " ***************\n",
      "        |\n"
     ]
    }
   ],
   "source": [
    "#i:the number of lines  stars:the numbers of stars   height:total number of lines\n",
    "height = 8\n",
    "\n",
    "stars = 1\n",
    "for i in range(height):\n",
    "    print((' ' * (height - i)) + ('*' * stars))\n",
    "    stars += 2\n",
    "print((' ' * height) + '|')"
   ]
  }
 ],
 "metadata": {
  "kernelspec": {
   "display_name": "Python 3",
   "language": "python",
   "name": "python3"
  },
  "language_info": {
   "codemirror_mode": {
    "name": "ipython",
    "version": 3
   },
   "file_extension": ".py",
   "mimetype": "text/x-python",
   "name": "python",
   "nbconvert_exporter": "python",
   "pygments_lexer": "ipython3",
   "version": "3.8.8"
  }
 },
 "nbformat": 4,
 "nbformat_minor": 5
}
