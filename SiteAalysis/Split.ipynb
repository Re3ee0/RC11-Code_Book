{
 "cells": [
  {
   "cell_type": "code",
   "execution_count": 9,
   "id": "d399ae4f",
   "metadata": {},
   "outputs": [],
   "source": [
    "import pandas as pd\n",
    "import numpy as np\n",
    "import geopandas\n",
    "import geopy\n",
    "import requests\n",
    "from IPython.display import IFrame\n",
    "import matplotlib.cm as cm\n",
    "import matplotlib.colors as colors\n",
    "import folium # map rendering library\n",
    "from sklearn.cluster import KMeans\n",
    "import shapely.geometry\n",
    "import pyproj\n",
    "import csv"
   ]
  },
  {
   "cell_type": "code",
   "execution_count": 10,
   "id": "6f71a5ca",
   "metadata": {},
   "outputs": [
    {
     "name": "stdout",
     "output_type": "stream",
     "text": [
      "2.22638995 48.88590573076923 2.2532160500000002 48.89713126923077\n"
     ]
    }
   ],
   "source": [
    "#Strait of the real limit\n",
    "Smin_lng = 2.225684\n",
    "Smin_lat = 48.885438\n",
    "Smax_lng = 2.253922\n",
    "Smax_lat = 48.897599\n",
    "\n",
    "#number of cubes in two dimension\n",
    "lng_count = 20\n",
    "lat_count = 13\n",
    "\n",
    "#get each step of two dimension\n",
    "delta_lng = Smax_lng - Smin_lng\n",
    "delta_lat = Smax_lat - Smin_lat\n",
    "\n",
    "step_lng = delta_lng/lng_count\n",
    "step_lat = delta_lat/lat_count\n",
    "\n",
    "min_lng = Smin_lng + step_lng/2\n",
    "min_lat = Smin_lat + step_lat/2\n",
    "max_lng = Smax_lng - step_lng/2\n",
    "max_lat = Smax_lat - step_lat/2\n",
    "\n",
    "print(min_lng,min_lat,max_lng,max_lat)"
   ]
  },
  {
   "cell_type": "code",
   "execution_count": 11,
   "id": "be7fc7a4",
   "metadata": {},
   "outputs": [],
   "source": [
    "gridpoints = []\n",
    "y = min_lat\n",
    "while y < max_lat:\n",
    "    x = min_lng\n",
    "    while x < max_lng:\n",
    "        p = (x,y)\n",
    "        gridpoints.append(p)\n",
    "        x += step_lng\n",
    "    y += step_lat  "
   ]
  },
  {
   "cell_type": "code",
   "execution_count": 12,
   "id": "6689e320",
   "metadata": {},
   "outputs": [],
   "source": [
    "with open('grid.csv', 'w') as of:\n",
    "    of.write('longitude,latitude\\n')\n",
    "    for p in gridpoints:\n",
    "        of.write('{}\\n'.format(str(p)))"
   ]
  },
  {
   "cell_type": "code",
   "execution_count": 26,
   "id": "82778824",
   "metadata": {},
   "outputs": [],
   "source": [
    "tt = []\n",
    "y = 0\n",
    "while y < 13:\n",
    "    x = 0\n",
    "    while x < 20:\n",
    "        z = (x,y)\n",
    "        tt.append(z)\n",
    "        x += 1\n",
    "    y += 1  "
   ]
  },
  {
   "cell_type": "code",
   "execution_count": 27,
   "id": "b26a06a8",
   "metadata": {},
   "outputs": [],
   "source": [
    "with open('1.csv', 'w') as of:\n",
    "    of.write('longitude,latitude\\n')\n",
    "    for z in tt:\n",
    "        of.write('{}\\n'.format(str(z)))"
   ]
  },
  {
   "cell_type": "code",
   "execution_count": null,
   "id": "634dcc3d",
   "metadata": {},
   "outputs": [],
   "source": []
  }
 ],
 "metadata": {
  "kernelspec": {
   "display_name": "site",
   "language": "python",
   "name": "site"
  },
  "language_info": {
   "codemirror_mode": {
    "name": "ipython",
    "version": 3
   },
   "file_extension": ".py",
   "mimetype": "text/x-python",
   "name": "python",
   "nbconvert_exporter": "python",
   "pygments_lexer": "ipython3",
   "version": "3.9.7"
  }
 },
 "nbformat": 4,
 "nbformat_minor": 5
}
