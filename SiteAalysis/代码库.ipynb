{
 "cells": [
  {
   "cell_type": "code",
   "execution_count": 2,
   "id": "8eca790e",
   "metadata": {},
   "outputs": [],
   "source": [
    "import pandas as pd\n",
    "import numpy as np\n",
    "import geopandas\n",
    "import geopy\n",
    "import requests\n",
    "from IPython.display import IFrame\n",
    "import matplotlib.cm as cm\n",
    "import matplotlib.colors as colors\n",
    "import folium # map rendering library\n",
    "from sklearn.cluster import KMeans\n",
    "import shapely.geometry\n",
    "import pyproj\n",
    "import csv"
   ]
  },
  {
   "cell_type": "code",
   "execution_count": 157,
   "id": "8789460b",
   "metadata": {},
   "outputs": [
    {
     "name": "stdout",
     "output_type": "stream",
     "text": [
      "2.22638995 48.88590573076923 2.2532160500000002 48.89713126923077\n"
     ]
    }
   ],
   "source": [
    "#Strait of the real limit\n",
    "Smin_lng = 2.225684\n",
    "Smin_lat = 48.885438\n",
    "Smax_lng = 2.253922\n",
    "Smax_lat = 48.897599\n",
    "\n",
    "#number of cubes in two dimension\n",
    "lng_count = 20\n",
    "lat_count = 13\n",
    "\n",
    "#get each step of two dimension\n",
    "delta_lng = Smax_lng - Smin_lng\n",
    "delta_lat = Smax_lat - Smin_lat\n",
    "\n",
    "step_lng = delta_lng/lng_count\n",
    "step_lat = delta_lat/lat_count\n",
    "\n",
    "min_lng = Smin_lng + step_lng/2\n",
    "min_lat = Smin_lat + step_lat/2\n",
    "max_lng = Smax_lng - step_lng/2\n",
    "max_lat = Smax_lat - step_lat/2\n",
    "\n",
    "print(min_lng,min_lat,max_lng,max_lat)"
   ]
  },
  {
   "cell_type": "code",
   "execution_count": 158,
   "id": "79e0706d",
   "metadata": {},
   "outputs": [],
   "source": [
    "gridpoints = []\n",
    "x = min_lng\n",
    "while x < max_lng:\n",
    "    y = min_lat\n",
    "    while y < max_lat:\n",
    "        p = (x,y)\n",
    "        gridpoints.append(p)\n",
    "        y += step_lat\n",
    "    x += step_lng  "
   ]
  },
  {
   "cell_type": "code",
   "execution_count": 159,
   "id": "238df7ac",
   "metadata": {},
   "outputs": [],
   "source": [
    "with open('grid.csv', 'w') as of:\n",
    "    of.write('longitude,latitude\\n')\n",
    "    for p in gridpoints:\n",
    "        of.write('{}\\n'.format(str(p)))"
   ]
  },
  {
   "cell_type": "code",
   "execution_count": 112,
   "id": "c5ed7a31",
   "metadata": {},
   "outputs": [
    {
     "name": "stdout",
     "output_type": "stream",
     "text": [
      "  Area(km2)  District                                 longitude,latitude\n",
      "0         1         1  rowrowrowrowrowrowrowrowrowrowrowrowrowrowrowr...\n"
     ]
    }
   ],
   "source": [
    "LD_grid = pd.read_csv(\"grid.csv\",engine='python',sep=';')\n",
    "LD_grid.insert(0, 'District', range(1, 1 + len(LD_grid)))\n",
    "LD_grid.insert(0, 'Area(km2)', '1')\n",
    "print(LD_grid)"
   ]
  },
  {
   "cell_type": "code",
   "execution_count": 96,
   "id": "2bc4d368",
   "metadata": {},
   "outputs": [
    {
     "ename": "KeyError",
     "evalue": "'latitude'",
     "output_type": "error",
     "traceback": [
      "\u001b[1;31m---------------------------------------------------------------------------\u001b[0m",
      "\u001b[1;31mKeyError\u001b[0m                                  Traceback (most recent call last)",
      "File \u001b[1;32m~\\anaconda3\\envs\\site\\lib\\site-packages\\pandas\\core\\indexes\\base.py:3361\u001b[0m, in \u001b[0;36mIndex.get_loc\u001b[1;34m(self, key, method, tolerance)\u001b[0m\n\u001b[0;32m   3360\u001b[0m \u001b[38;5;28;01mtry\u001b[39;00m:\n\u001b[1;32m-> 3361\u001b[0m     \u001b[38;5;28;01mreturn\u001b[39;00m \u001b[38;5;28;43mself\u001b[39;49m\u001b[38;5;241;43m.\u001b[39;49m\u001b[43m_engine\u001b[49m\u001b[38;5;241;43m.\u001b[39;49m\u001b[43mget_loc\u001b[49m\u001b[43m(\u001b[49m\u001b[43mcasted_key\u001b[49m\u001b[43m)\u001b[49m\n\u001b[0;32m   3362\u001b[0m \u001b[38;5;28;01mexcept\u001b[39;00m \u001b[38;5;167;01mKeyError\u001b[39;00m \u001b[38;5;28;01mas\u001b[39;00m err:\n",
      "File \u001b[1;32m~\\anaconda3\\envs\\site\\lib\\site-packages\\pandas\\_libs\\index.pyx:76\u001b[0m, in \u001b[0;36mpandas._libs.index.IndexEngine.get_loc\u001b[1;34m()\u001b[0m\n",
      "File \u001b[1;32m~\\anaconda3\\envs\\site\\lib\\site-packages\\pandas\\_libs\\index.pyx:108\u001b[0m, in \u001b[0;36mpandas._libs.index.IndexEngine.get_loc\u001b[1;34m()\u001b[0m\n",
      "File \u001b[1;32mpandas\\_libs\\hashtable_class_helper.pxi:5198\u001b[0m, in \u001b[0;36mpandas._libs.hashtable.PyObjectHashTable.get_item\u001b[1;34m()\u001b[0m\n",
      "File \u001b[1;32mpandas\\_libs\\hashtable_class_helper.pxi:5206\u001b[0m, in \u001b[0;36mpandas._libs.hashtable.PyObjectHashTable.get_item\u001b[1;34m()\u001b[0m\n",
      "\u001b[1;31mKeyError\u001b[0m: 'latitude'",
      "\nThe above exception was the direct cause of the following exception:\n",
      "\u001b[1;31mKeyError\u001b[0m                                  Traceback (most recent call last)",
      "Input \u001b[1;32mIn [96]\u001b[0m, in \u001b[0;36m<module>\u001b[1;34m\u001b[0m\n\u001b[0;32m      6\u001b[0m \u001b[38;5;66;03m# add markers to the map to show the districts\u001b[39;00m\n\u001b[0;32m      7\u001b[0m markers_colors \u001b[38;5;241m=\u001b[39m []\n\u001b[1;32m----> 8\u001b[0m \u001b[38;5;28;01mfor\u001b[39;00m lat, lon, poi \u001b[38;5;129;01min\u001b[39;00m \u001b[38;5;28mzip\u001b[39m(\u001b[43mLD_grid\u001b[49m\u001b[43m[\u001b[49m\u001b[38;5;124;43m'\u001b[39;49m\u001b[38;5;124;43mlatitude\u001b[39;49m\u001b[38;5;124;43m'\u001b[39;49m\u001b[43m]\u001b[49m, LD_grid[\u001b[38;5;124m'\u001b[39m\u001b[38;5;124mlongitude\u001b[39m\u001b[38;5;124m'\u001b[39m],LD_grid[\u001b[38;5;124m'\u001b[39m\u001b[38;5;124mDistrict\u001b[39m\u001b[38;5;124m'\u001b[39m]):\n\u001b[0;32m      9\u001b[0m     label \u001b[38;5;241m=\u001b[39m folium\u001b[38;5;241m.\u001b[39mPopup(\u001b[38;5;28mstr\u001b[39m(poi))\n\u001b[0;32m     10\u001b[0m     folium\u001b[38;5;241m.\u001b[39mCircleMarker(\n\u001b[0;32m     11\u001b[0m         [lat, lon],\n\u001b[0;32m     12\u001b[0m         radius\u001b[38;5;241m=\u001b[39m\u001b[38;5;241m3\u001b[39m,\n\u001b[1;32m   (...)\u001b[0m\n\u001b[0;32m     15\u001b[0m         fill_color\u001b[38;5;241m=\u001b[39m\u001b[38;5;124m'\u001b[39m\u001b[38;5;124m#ff6951\u001b[39m\u001b[38;5;124m'\u001b[39m,\n\u001b[0;32m     16\u001b[0m         fill_opacity\u001b[38;5;241m=\u001b[39m\u001b[38;5;241m0.4\u001b[39m)\u001b[38;5;241m.\u001b[39madd_to(\u001b[38;5;28mmap\u001b[39m)\n",
      "File \u001b[1;32m~\\anaconda3\\envs\\site\\lib\\site-packages\\pandas\\core\\frame.py:3458\u001b[0m, in \u001b[0;36mDataFrame.__getitem__\u001b[1;34m(self, key)\u001b[0m\n\u001b[0;32m   3456\u001b[0m \u001b[38;5;28;01mif\u001b[39;00m \u001b[38;5;28mself\u001b[39m\u001b[38;5;241m.\u001b[39mcolumns\u001b[38;5;241m.\u001b[39mnlevels \u001b[38;5;241m>\u001b[39m \u001b[38;5;241m1\u001b[39m:\n\u001b[0;32m   3457\u001b[0m     \u001b[38;5;28;01mreturn\u001b[39;00m \u001b[38;5;28mself\u001b[39m\u001b[38;5;241m.\u001b[39m_getitem_multilevel(key)\n\u001b[1;32m-> 3458\u001b[0m indexer \u001b[38;5;241m=\u001b[39m \u001b[38;5;28;43mself\u001b[39;49m\u001b[38;5;241;43m.\u001b[39;49m\u001b[43mcolumns\u001b[49m\u001b[38;5;241;43m.\u001b[39;49m\u001b[43mget_loc\u001b[49m\u001b[43m(\u001b[49m\u001b[43mkey\u001b[49m\u001b[43m)\u001b[49m\n\u001b[0;32m   3459\u001b[0m \u001b[38;5;28;01mif\u001b[39;00m is_integer(indexer):\n\u001b[0;32m   3460\u001b[0m     indexer \u001b[38;5;241m=\u001b[39m [indexer]\n",
      "File \u001b[1;32m~\\anaconda3\\envs\\site\\lib\\site-packages\\pandas\\core\\indexes\\base.py:3363\u001b[0m, in \u001b[0;36mIndex.get_loc\u001b[1;34m(self, key, method, tolerance)\u001b[0m\n\u001b[0;32m   3361\u001b[0m         \u001b[38;5;28;01mreturn\u001b[39;00m \u001b[38;5;28mself\u001b[39m\u001b[38;5;241m.\u001b[39m_engine\u001b[38;5;241m.\u001b[39mget_loc(casted_key)\n\u001b[0;32m   3362\u001b[0m     \u001b[38;5;28;01mexcept\u001b[39;00m \u001b[38;5;167;01mKeyError\u001b[39;00m \u001b[38;5;28;01mas\u001b[39;00m err:\n\u001b[1;32m-> 3363\u001b[0m         \u001b[38;5;28;01mraise\u001b[39;00m \u001b[38;5;167;01mKeyError\u001b[39;00m(key) \u001b[38;5;28;01mfrom\u001b[39;00m \u001b[38;5;21;01merr\u001b[39;00m\n\u001b[0;32m   3365\u001b[0m \u001b[38;5;28;01mif\u001b[39;00m is_scalar(key) \u001b[38;5;129;01mand\u001b[39;00m isna(key) \u001b[38;5;129;01mand\u001b[39;00m \u001b[38;5;129;01mnot\u001b[39;00m \u001b[38;5;28mself\u001b[39m\u001b[38;5;241m.\u001b[39mhasnans:\n\u001b[0;32m   3366\u001b[0m     \u001b[38;5;28;01mraise\u001b[39;00m \u001b[38;5;167;01mKeyError\u001b[39;00m(key)\n",
      "\u001b[1;31mKeyError\u001b[0m: 'latitude'"
     ]
    }
   ],
   "source": [
    "# create map, LD_tweets['text']\n",
    "# set location that make Hong Kong at the centre of the web page\n",
    "# set zoom_start = 12 for better visualization\n",
    "map = folium.Map(tiles='cartodbpositron', location=[48.89114492, 2.240388888], zoom_start=14.6)\n",
    "\n",
    "# add markers to the map to show the districts\n",
    "markers_colors = []\n",
    "for lat, lon, poi in zip(LD_grid['latitude'], LD_grid['longitude'],LD_grid['District']):\n",
    "    label = folium.Popup(str(poi))\n",
    "    folium.CircleMarker(\n",
    "        [lat, lon],\n",
    "        radius=3,\n",
    "        popup=label,\n",
    "        fill=True,\n",
    "        fill_color='#ff6951',\n",
    "        fill_opacity=0.4).add_to(map)\n",
    "       \n",
    "map.save('ld_grid.html')\n",
    "display(IFrame('ld_grid.html', width = 1000, height = 900))"
   ]
  },
  {
   "cell_type": "code",
   "execution_count": null,
   "id": "720d1def",
   "metadata": {},
   "outputs": [],
   "source": [
    "# Define FourSquare Credential\n",
    "CLIENT_ID = '3ZK4LUBW25RFO1X1FU5KNVRTUJQTZI1TR2GEH43OHI0FYTTQ' # your Foursquare ID\n",
    "CLIENT_SECRET = 'DDRMTZ5UII0XSHBCFVVD5EPL3F1WJ4ZZM5VLZEEYG5CJJXYD' # your Foursquare Secret\n",
    "VERSION = '20220128' # Foursquare API version\n",
    "LIMIT = 50 # A default Foursquare API limit value\n",
    "\n",
    "print('Your credentails:')\n",
    "print('CLIENT_ID: ' + CLIENT_ID)\n",
    "print('CLIENT_SECRET:' + CLIENT_SECRET)"
   ]
  },
  {
   "cell_type": "code",
   "execution_count": null,
   "id": "24b2b494",
   "metadata": {},
   "outputs": [],
   "source": [
    "# Create a function to explore the Food venure from a given coordinates\n",
    "def getNearbyVenues(names, latitudes, longitudes, radius):\n",
    "    \n",
    "    venues_list=[]\n",
    "    for name, lat, lng, rad in zip(names, latitudes, longitudes, radius):\n",
    "        print(name)\n",
    "            \n",
    "        # create the API request URL\n",
    "        url = 'https://api.foursquare.com/v3/venues/search?&client_id={}&client_secret={}&v={}&ll={},{}&radius={}&limit={}&categoryId=4d4b7105d754a06374d81259'.format(\n",
    "            CLIENT_ID, \n",
    "            CLIENT_SECRET, \n",
    "            VERSION, \n",
    "            lat, \n",
    "            lng, \n",
    "            rad, \n",
    "            LIMIT)\n",
    "            \n",
    "        # make the GET request\n",
    "        results = requests.get(url).json()[\"response\"]['groups'][0]['items']\n",
    "        \n",
    "        # return only relevant information for each nearby venue\n",
    "        venues_list.append([(\n",
    "            name, \n",
    "            lat, \n",
    "            lng, \n",
    "            v['venue']['name'], \n",
    "            v['venue']['location']['lat'], \n",
    "            v['venue']['location']['lng'],  \n",
    "            v['venue']['categories'][0]['name']) for v in results])\n",
    "\n",
    "    nearby_venues = pd.DataFrame([item for venue_list in venues_list for item in venue_list])\n",
    "    nearby_venues.columns = ['District', \n",
    "                  'District Latitude', \n",
    "                  'District Longitude', \n",
    "                  'Venue', \n",
    "                  'Venue Latitude', \n",
    "                  'Venue Longitude', \n",
    "                  'Venue Category']\n",
    "    \n",
    "    return(nearby_venues)"
   ]
  },
  {
   "cell_type": "code",
   "execution_count": null,
   "id": "ab6eaeaa",
   "metadata": {},
   "outputs": [],
   "source": [
    "LD_grid_venues = getNearbyVenues(names = LD_grid['District'],\n",
    "                                   latitudes = LD_grid['latitude'],\n",
    "                                   longitudes = LD_grid['longitude'],\n",
    "                                   \n",
    "                                   #assume district is a circle, determine radius by the equation of circle area: Area = pi * r^2\n",
    "                                   radius = LD_grid['Area(km2)']\n",
    "                                  )"
   ]
  },
  {
   "cell_type": "code",
   "execution_count": null,
   "id": "746af22c",
   "metadata": {},
   "outputs": [],
   "source": [
    "print(LD_grid_venues.groupby('District').count())"
   ]
  },
  {
   "cell_type": "code",
   "execution_count": null,
   "id": "9c9859db",
   "metadata": {},
   "outputs": [],
   "source": [
    "https://api.foursquare.com/v2/venues/explore?&client_id={3ZK4LUBW25RFO1X1FU5KNVRTUJQTZI1TR2GEH43OHI0FYTTQ}&client_secret={DDRMTZ5UII0XSHBCFVVD5EPL3F1WJ4ZZM5VLZEEYG5CJJXYD}&v={20220202}&ll={2.252674},{48.887909}&radius={500}&limit={30}&categoryId=4d4b7105d754a06374d81259"
   ]
  },
  {
   "cell_type": "code",
   "execution_count": 7,
   "id": "aae47622",
   "metadata": {},
   "outputs": [
    {
     "ename": "IndentationError",
     "evalue": "expected an indented block (2422839095.py, line 7)",
     "output_type": "error",
     "traceback": [
      "\u001b[1;36m  Input \u001b[1;32mIn [7]\u001b[1;36m\u001b[0m\n\u001b[1;33m    if __name__=='__main__':\u001b[0m\n\u001b[1;37m                            ^\u001b[0m\n\u001b[1;31mIndentationError\u001b[0m\u001b[1;31m:\u001b[0m expected an indented block\n"
     ]
    }
   ],
   "source": [
    "def  count_list(std:list,tongji):\n",
    "    from collections import Counter\n",
    "    name=Counter()\n",
    "    for  num in std:\n",
    "        name[num]+=1\n",
    "    print(name[tongji])\n",
    "if __name__=='__main__':"
   ]
  },
  {
   "cell_type": "code",
   "execution_count": 27,
   "id": "e1237a69",
   "metadata": {},
   "outputs": [],
   "source": [
    "min_lng = 2.225684\n",
    "min_lat = 48.885438\n",
    "max_lng = 2.253922\n",
    "max_lat = 48.897599\n",
    "# Set up transformers, EPSG:3857 is metric, same as EPSG:900913\n",
    "to_proxy_transformer = pyproj.Transformer.from_crs('epsg:4326', 'epsg:3857')\n",
    "to_original_transformer = pyproj.Transformer.from_crs('epsg:3857', 'epsg:4326')\n",
    "# Create corners of rectangle to be transformed to a grid\n",
    "sw = shapely.geometry.Point((min_lng, min_lat))\n",
    "ne = shapely.geometry.Point((max_lng, max_lat))\n",
    "\n",
    "stepsize = 135 # 5 km grid step size\n",
    "\n",
    "# Project corners to target projection\n",
    "transformed_sw = to_proxy_transformer.transform(sw.x, sw.y) # Transform NW point to 3857\n",
    "transformed_ne = to_proxy_transformer.transform(ne.x, ne.y) # .. same for SE\n",
    "\n",
    "# Iterate over 2D area\n",
    "gridpoints = []\n",
    "x = transformed_sw[0]\n",
    "while x < transformed_ne[0]:\n",
    "    y = transformed_sw[1]\n",
    "    while y < transformed_ne[1]:\n",
    "        p = shapely.geometry.Point(to_original_transformer.transform(x, y))\n",
    "        gridpoints.append(p)\n",
    "        y += stepsize\n",
    "    x += stepsize  \n"
   ]
  },
  {
   "cell_type": "code",
   "execution_count": 28,
   "id": "b4707fbb",
   "metadata": {},
   "outputs": [
    {
     "data": {
      "text/plain": [
       "264"
      ]
     },
     "execution_count": 28,
     "metadata": {},
     "output_type": "execute_result"
    }
   ],
   "source": [
    "len(gridpoints)"
   ]
  },
  {
   "cell_type": "code",
   "execution_count": null,
   "id": "cc866247",
   "metadata": {},
   "outputs": [],
   "source": []
  }
 ],
 "metadata": {
  "kernelspec": {
   "display_name": "site",
   "language": "python",
   "name": "site"
  },
  "language_info": {
   "codemirror_mode": {
    "name": "ipython",
    "version": 3
   },
   "file_extension": ".py",
   "mimetype": "text/x-python",
   "name": "python",
   "nbconvert_exporter": "python",
   "pygments_lexer": "ipython3",
   "version": "3.9.7"
  }
 },
 "nbformat": 4,
 "nbformat_minor": 5
}
