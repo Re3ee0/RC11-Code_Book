{
 "cells": [
  {
   "cell_type": "code",
   "execution_count": 1,
   "id": "abda14e1",
   "metadata": {},
   "outputs": [],
   "source": [
    "import pandas as pd\n",
    "import numpy as np\n",
    "import geopandas\n",
    "import geopy\n",
    "import requests\n",
    "from IPython.display import IFrame\n",
    "import matplotlib.cm as cm\n",
    "import matplotlib.colors as colors\n",
    "import folium # map rendering library\n",
    "from sklearn.cluster import KMeans\n",
    "import shapely.geometry\n",
    "import pyproj\n",
    "import csv\n",
    "import shapely.geometry\n",
    "import pyproj"
   ]
  },
  {
   "cell_type": "code",
   "execution_count": 2,
   "id": "1bebcb93",
   "metadata": {},
   "outputs": [],
   "source": [
    "#Strait of the real limit\n",
    "Smin_lng = 2.225684\n",
    "Smin_lat = 48.885438\n",
    "Smax_lng = 2.253922\n",
    "Smax_lat = 48.897599"
   ]
  },
  {
   "cell_type": "code",
   "execution_count": 3,
   "id": "d14aad50",
   "metadata": {},
   "outputs": [],
   "source": [
    "# Set up transformers, EPSG:3857 is metric, same as EPSG:900913\n",
    "to_proxy_transformer = pyproj.Transformer.from_crs('epsg:4326', 'epsg:3857')\n",
    "to_original_transformer = pyproj.Transformer.from_crs('epsg:3857', 'epsg:4326')\n",
    "\n",
    "# Create corners of rectangle to be transformed to a grid\n",
    "sw = shapely.geometry.Point((2.225684,48.885438))\n",
    "ne = shapely.geometry.Point((2.253922,48.897599))\n",
    "\n",
    "stepsize = 100 # 5 km grid step size\n",
    "\n",
    "# Project corners to target projection\n",
    "transformed_sw = to_proxy_transformer.transform(sw.x, sw.y) # Transform NW point to 3857\n",
    "transformed_ne = to_proxy_transformer.transform(ne.x, ne.y) # .. same for SE\n",
    "\n",
    "# Iterate over 2D area\n",
    "gridpoints = []\n",
    "x = transformed_sw[0]\n",
    "while x < transformed_ne[0]:\n",
    "    y = transformed_sw[1]\n",
    "    while y < transformed_ne[1]:\n",
    "        p = shapely.geometry.Point(to_original_transformer.transform(x, y))\n",
    "        gridpoints.append(p)\n",
    "        y += stepsize\n",
    "    x += stepsize\n",
    "\n",
    "with open('cube.csv', 'w') as of:\n",
    "    of.write('lonitude;latitude\\n')\n",
    "    for p in gridpoints:\n",
    "        of.write('{:f};{:f}\\n'.format(p.x, p.y))"
   ]
  },
  {
   "cell_type": "code",
   "execution_count": 4,
   "id": "08e14f37",
   "metadata": {},
   "outputs": [],
   "source": [
    "LD_grid = pd.read_csv(\"cube.csv\",engine='python',sep=',')\n",
    "LD_grid.insert(0, 'Area(km2)', '1')\n",
    "#print(LD_grid)"
   ]
  },
  {
   "cell_type": "code",
   "execution_count": null,
   "id": "bf17a45f",
   "metadata": {},
   "outputs": [],
   "source": []
  }
 ],
 "metadata": {
  "kernelspec": {
   "display_name": "site",
   "language": "python",
   "name": "site"
  },
  "language_info": {
   "codemirror_mode": {
    "name": "ipython",
    "version": 3
   },
   "file_extension": ".py",
   "mimetype": "text/x-python",
   "name": "python",
   "nbconvert_exporter": "python",
   "pygments_lexer": "ipython3",
   "version": "3.9.7"
  }
 },
 "nbformat": 4,
 "nbformat_minor": 5
}
