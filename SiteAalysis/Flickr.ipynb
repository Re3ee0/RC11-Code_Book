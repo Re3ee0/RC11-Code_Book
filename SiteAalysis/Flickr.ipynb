{
 "cells": [
  {
   "cell_type": "code",
   "execution_count": 5,
   "id": "e70d6e49",
   "metadata": {},
   "outputs": [],
   "source": [
    "import pandas as pd\n",
    "import numpy as np\n",
    "import geopandas\n",
    "import csv\n",
    "import geopy\n",
    "from IPython.display import IFrame\n",
    "import matplotlib.cm as cm\n",
    "import matplotlib.colors as colors\n",
    "import folium # map rendering library\n",
    "from sklearn.cluster import KMeans"
   ]
  },
  {
   "cell_type": "code",
   "execution_count": 6,
   "id": "8aa7d983",
   "metadata": {},
   "outputs": [
    {
     "name": "stdout",
     "output_type": "stream",
     "text": [
      "      Unnamed: 0  accuracy  context        datetaken  datetakengranularity  \\\n",
      "0              0        16        0   2019/1/8 20:59                     0   \n",
      "1              1        16        0   2019/1/8 20:54                     0   \n",
      "2              2        16        0  2019/1/19 18:13                     0   \n",
      "3              3        16        0  2019/1/19 18:15                     0   \n",
      "4              4        16        0  2019/1/19 17:50                     0   \n",
      "...          ...       ...      ...              ...                   ...   \n",
      "2775        2775        15        0  2022/1/13 13:11                     0   \n",
      "2776        2776        16        0  2022/1/13 12:12                     0   \n",
      "2777        2777        16        0  2022/1/13 12:12                     0   \n",
      "2778        2778        16        0  2022/1/13 12:12                     0   \n",
      "2779        2779        16        0  2022/1/13 12:12                     0   \n",
      "\n",
      "      datetakenunknown                                        description  \\\n",
      "0                    0          {'_content': 'In Paris la defense area.'}   \n",
      "1                    0                                   {'_content': ''}   \n",
      "2                    0                                   {'_content': ''}   \n",
      "3                    0   {'_content': 'Reflets dans une surface vitrée.'}   \n",
      "4                    0      {'_content': 'Merry-go-round at La Défense.'}   \n",
      "...                ...                                                ...   \n",
      "2775                 0  {'_content': '&quot;The Fog&quot; , John Carpe...   \n",
      "2776                 0  {'_content': '<a href=\"http://jeanmarieboyer.b...   \n",
      "2777                 0  {'_content': '<a href=\"http://jeanmarieboyer.b...   \n",
      "2778                 0  {'_content': '<a href=\"http://jeanmarieboyer.b...   \n",
      "2779                 0  {'_content': '<a href=\"http://jeanmarieboyer.b...   \n",
      "\n",
      "      farm  geo_is_contact  geo_is_family  ...  longitude         owner  \\\n",
      "0        5               0              0  ...   2.240136  98614865@N05   \n",
      "1        8               0              0  ...   2.240422  98614865@N05   \n",
      "2        8               0              0  ...   2.241699  15917364@N02   \n",
      "3        5               0              0  ...   2.241699  15917364@N02   \n",
      "4        8               0              0  ...   2.241077  15917364@N02   \n",
      "...    ...             ...            ...  ...        ...           ...   \n",
      "2775    66               0              0  ...   2.236618  17671746@N04   \n",
      "2776    66               0              0  ...   2.237583   8930636@N05   \n",
      "2777    66               0              0  ...   2.237583   8930636@N05   \n",
      "2778    66               0              0  ...   2.237583   8930636@N05   \n",
      "2779    66               0              0  ...   2.237583   8930636@N05   \n",
      "\n",
      "                place_id      secret  server  \\\n",
      "0     a_GJ6YVQUL.FYR2hzw  9d922af28e    4894   \n",
      "1     a_GJ6YVQUL.FYR2hzw  fc7f57bf7e    7844   \n",
      "2     OZm8L3lUV7LeKWG5lw  d7d5a1ed49    7840   \n",
      "3     OZm8L3lUV7LeKWG5lw  9d565412a0    4821   \n",
      "4     OZm8L3lUV7LeKWG5lw  482ffc1a09    7911   \n",
      "...                  ...         ...     ...   \n",
      "2775                 NaN  5056d4f14d   65535   \n",
      "2776                 NaN  2cc44e97e6   65535   \n",
      "2777                 NaN  693b4923b9   65535   \n",
      "2778                 NaN  df84d9ae08   65535   \n",
      "2779                 NaN  bb093a1b2e   65535   \n",
      "\n",
      "                                                  title  \\\n",
      "0                                             Boiledieu   \n",
      "1                                             Boiledieu   \n",
      "2     Paris La Défense - La tour EDF encadrée par l'...   \n",
      "3     Paris - L' Araignée Rouge d'Alexandre Calder à...   \n",
      "4                          Paris - Manège à la Défense.   \n",
      "...                                                 ...   \n",
      "2775  \" Something came out of the fog and tried to d...   \n",
      "2776                                 Alger Fashion Week   \n",
      "2777                                 Alger Fashion Week   \n",
      "2778                                 Alger Fashion Week   \n",
      "2779                                 Alger Fashion Week   \n",
      "\n",
      "                                                  url_n  views  width_n  \\\n",
      "0     https://live.staticflickr.com/4894/46069332194...  21506      320   \n",
      "1     https://live.staticflickr.com/7844/46618252342...   1213      320   \n",
      "2     https://live.staticflickr.com/7840/39925305413...   2852      213   \n",
      "3     https://live.staticflickr.com/4821/31889663697...   3059      320   \n",
      "4     https://live.staticflickr.com/7911/45928626095...   2920      320   \n",
      "...                                                 ...    ...      ...   \n",
      "2775  https://live.staticflickr.com/65535/5182186358...    314      320   \n",
      "2776  https://live.staticflickr.com/65535/5182001432...    541      207   \n",
      "2777  https://live.staticflickr.com/65535/5181990078...    751      197   \n",
      "2778  https://live.staticflickr.com/65535/5182061846...    561      230   \n",
      "2779  https://live.staticflickr.com/65535/5181990072...    879      199   \n",
      "\n",
      "           woeid  \n",
      "0     12523323.0  \n",
      "1     12523323.0  \n",
      "2     55863561.0  \n",
      "3     55863561.0  \n",
      "4     55863561.0  \n",
      "...          ...  \n",
      "2775   8504417.0  \n",
      "2776   8504417.0  \n",
      "2777   8504417.0  \n",
      "2778   8504417.0  \n",
      "2779   8504417.0  \n",
      "\n",
      "[2780 rows x 29 columns]\n"
     ]
    }
   ],
   "source": [
    "LD_flicker = pd.read_csv(\"flickr_photos_2019_2022.csv\")\n",
    "print(LD_flicker)"
   ]
  },
  {
   "cell_type": "code",
   "execution_count": 7,
   "id": "3a46ac72",
   "metadata": {},
   "outputs": [
    {
     "data": {
      "text/html": [
       "\n",
       "        <iframe\n",
       "            width=\"1000\"\n",
       "            height=\"900\"\n",
       "            src=\"ld_flicker.html\"\n",
       "            frameborder=\"0\"\n",
       "            allowfullscreen\n",
       "            \n",
       "        ></iframe>\n",
       "        "
      ],
      "text/plain": [
       "<IPython.lib.display.IFrame at 0x271fb569070>"
      ]
     },
     "metadata": {},
     "output_type": "display_data"
    }
   ],
   "source": [
    "# create map, LD_tweets['text']\n",
    "# set location that make Hong Kong at the centre of the web page\n",
    "# set zoom_start = 12 for better visualization\n",
    "map = folium.Map(tiles='cartodbpositron', location=[48.88614492, 2.225888888], zoom_start=20)\n",
    "\n",
    "# add markers to the map to show the districts\n",
    "markers_colors = []\n",
    "for lat, lon, tit, in zip(LD_flicker['latitude'], LD_flicker['longitude'], LD_flicker['title']):\n",
    "    label = folium.Popup(str(tit))\n",
    "    folium.CircleMarker(\n",
    "        [lat, lon],\n",
    "        radius=6,\n",
    "        popup=label,\n",
    "        fill=True,\n",
    "        fill_color='#FFFFFF',\n",
    "        fill_opacity=0.7).add_to(map)\n",
    "       \n",
    "map.save('ld_flicker.html')\n",
    "display(IFrame('ld_flicker.html', width = 1000, height = 900))"
   ]
  },
  {
   "cell_type": "code",
   "execution_count": 8,
   "id": "985467ce",
   "metadata": {
    "scrolled": true
   },
   "outputs": [
    {
     "name": "stdout",
     "output_type": "stream",
     "text": [
      "48.896397\n"
     ]
    }
   ],
   "source": [
    "print(lat)"
   ]
  },
  {
   "cell_type": "code",
   "execution_count": null,
   "id": "d82e7a2a",
   "metadata": {},
   "outputs": [],
   "source": []
  },
  {
   "cell_type": "code",
   "execution_count": null,
   "id": "2091b2a3",
   "metadata": {},
   "outputs": [],
   "source": []
  }
 ],
 "metadata": {
  "kernelspec": {
   "display_name": "site",
   "language": "python",
   "name": "site"
  },
  "language_info": {
   "codemirror_mode": {
    "name": "ipython",
    "version": 3
   },
   "file_extension": ".py",
   "mimetype": "text/x-python",
   "name": "python",
   "nbconvert_exporter": "python",
   "pygments_lexer": "ipython3",
   "version": "3.9.7"
  }
 },
 "nbformat": 4,
 "nbformat_minor": 5
}
