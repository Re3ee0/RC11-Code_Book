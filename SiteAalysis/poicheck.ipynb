{
 "cells": [
  {
   "cell_type": "code",
   "execution_count": 12,
   "id": "1c28330e",
   "metadata": {},
   "outputs": [],
   "source": [
    "import pandas as pd\n",
    "import numpy as np\n",
    "import geopandas\n",
    "import csv\n",
    "import geopy\n",
    "from IPython.display import IFrame\n",
    "import matplotlib.cm as cm\n",
    "import matplotlib.colors as colors\n",
    "import folium # map rendering library\n",
    "from sklearn.cluster import KMeans"
   ]
  },
  {
   "cell_type": "code",
   "execution_count": 13,
   "id": "95605aa6",
   "metadata": {},
   "outputs": [
    {
     "name": "stdout",
     "output_type": "stream",
     "text": [
      "     zoom Count            x            y  longitude  latitude\n",
      "0             1  2207.942911   900.122795  48.908492  2.237805\n",
      "1             2  2147.234031   918.110612  48.908233  2.238197\n",
      "2             3  2160.724893   875.389548  48.908291  2.237265\n",
      "3             4  3002.291818  1069.868099  48.911869  2.241511\n",
      "4             5  3074.243083  1175.546520  48.912174  2.243818\n",
      "..          ...          ...          ...        ...       ...\n",
      "490         492   682.555284  1608.639347  48.902007  2.253274\n",
      "491         493   820.971530  1810.799917  48.902595  2.257688\n",
      "492         494   702.589214  1874.544241  48.902092  2.259080\n",
      "493         495   684.376550  1887.293106  48.902014  2.259358\n",
      "494         496   757.227206  1834.476381  48.902324  2.258205\n",
      "\n",
      "[495 rows x 5 columns]\n"
     ]
    }
   ],
   "source": [
    "LD_poi = pd.read_csv(\"zoom.csv\",encoding='utf-8',engine='python',sep=',')\n",
    "print(LD_poi)"
   ]
  },
  {
   "cell_type": "code",
   "execution_count": 14,
   "id": "e86eb9ad",
   "metadata": {},
   "outputs": [
    {
     "data": {
      "text/html": [
       "\n",
       "        <iframe\n",
       "            width=\"1000\"\n",
       "            height=\"900\"\n",
       "            src=\"ld_poi.html\"\n",
       "            frameborder=\"0\"\n",
       "            allowfullscreen\n",
       "            \n",
       "        ></iframe>\n",
       "        "
      ],
      "text/plain": [
       "<IPython.lib.display.IFrame at 0x169cb16f070>"
      ]
     },
     "metadata": {},
     "output_type": "display_data"
    }
   ],
   "source": [
    "# create map, LD_tweets['text']\n",
    "# set location that make Hong Kong at the centre of the web page\n",
    "# set zoom_start = 12 for better visualization\n",
    "map = folium.Map(tiles='cartodbpositron', location=[48.88614492, 2.225888888], zoom_start=20)\n",
    "\n",
    "# add markers to the map to show the districts\n",
    "markers_colors = []\n",
    "for lat, lon, nam, in zip(LD_poi['latitude'], LD_poi['longitude'], LD_poi['zoom Count']):\n",
    "    label = folium.Popup(str(nam))\n",
    "    folium.CircleMarker(\n",
    "        [lat, lon],\n",
    "        radius=6,\n",
    "        popup=label,\n",
    "        fill=True,\n",
    "        fill_color='#FFFFFF',\n",
    "        fill_opacity=0.7).add_to(map)\n",
    "       \n",
    "map.save('ld_poi.html')\n",
    "display(IFrame('ld_poi.html', width = 1000, height = 900))"
   ]
  },
  {
   "cell_type": "code",
   "execution_count": null,
   "id": "13ae6ef6",
   "metadata": {},
   "outputs": [],
   "source": []
  },
  {
   "cell_type": "code",
   "execution_count": null,
   "id": "9f7c3af9",
   "metadata": {},
   "outputs": [],
   "source": []
  },
  {
   "cell_type": "code",
   "execution_count": null,
   "id": "5b9e96b1",
   "metadata": {},
   "outputs": [],
   "source": []
  },
  {
   "cell_type": "code",
   "execution_count": null,
   "id": "94920fbf",
   "metadata": {},
   "outputs": [],
   "source": []
  }
 ],
 "metadata": {
  "kernelspec": {
   "display_name": "site",
   "language": "python",
   "name": "site"
  },
  "language_info": {
   "codemirror_mode": {
    "name": "ipython",
    "version": 3
   },
   "file_extension": ".py",
   "mimetype": "text/x-python",
   "name": "python",
   "nbconvert_exporter": "python",
   "pygments_lexer": "ipython3",
   "version": "3.9.7"
  }
 },
 "nbformat": 4,
 "nbformat_minor": 5
}
