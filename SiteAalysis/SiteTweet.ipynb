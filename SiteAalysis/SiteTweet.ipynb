{
 "cells": [
  {
   "cell_type": "code",
   "execution_count": 5,
   "id": "9ca94be4",
   "metadata": {},
   "outputs": [],
   "source": [
    "import pandas as pd\n",
    "import numpy as np\n",
    "import geopandas\n",
    "import geopy\n",
    "from IPython.display import IFrame\n",
    "import matplotlib.cm as cm\n",
    "import matplotlib.colors as colors\n",
    "import folium # map rendering library\n",
    "from sklearn.cluster import KMeans"
   ]
  },
  {
   "cell_type": "code",
   "execution_count": 6,
   "id": "9667ce8a",
   "metadata": {},
   "outputs": [
    {
     "name": "stdout",
     "output_type": "stream",
     "text": [
      "               id         datetime  year  month  day_of_month  day_of_week  \\\n",
      "0    1.490000e+18  2022/1/28 19:46  2022      1            28            4   \n",
      "1    1.490000e+18  2022/1/28 19:47  2022      1            28            4   \n",
      "2    1.490000e+18  2022/1/28 19:51  2022      1            28            4   \n",
      "3    1.490000e+18  2022/1/28 19:54  2022      1            28            4   \n",
      "4    1.490000e+18  2022/1/28 19:54  2022      1            28            4   \n",
      "..            ...              ...   ...    ...           ...          ...   \n",
      "509  1.490000e+18  2022/1/28 21:30  2022      1            28            4   \n",
      "510  1.490000e+18  2022/1/28 20:15  2022      1            28            4   \n",
      "511  1.490000e+18  2022/1/28 22:15  2022      1            28            4   \n",
      "512  1.490000e+18  2022/1/28 19:35  2022      1            28            4   \n",
      "513  1.490000e+18  2022/1/28 19:35  2022      1            28            4   \n",
      "\n",
      "     hour  minute  second                                               text  \\\n",
      "0      19      46      42                   @DpxJacques Ce bleu�?541094561.0   \n",
      "1      19      47       7  les babtous quel peuple extraordinaire il fait...   \n",
      "2      19      51       7  @inter_dream A croire que la jeunesse équivaut...   \n",
      "3      19      54      42  @EnchanteeJ Je t’ai envoyé une super adresse s...   \n",
      "4      19      54      42  @EnchanteeJ Je t’ai envoyé une super adresse s...   \n",
      "..    ...     ...     ...                                                ...   \n",
      "509    21      30      15                          @Rislo92 Nan remet Marqui   \n",
      "510    20      15      15           Je ne sais pas manger le fromage fondu 😅   \n",
      "511    22      15      52  #Paris12 Ils sont tous là à parler de ce terra...   \n",
      "512    19      35      31  @saccageparis14 @ParisVigilance @beninso @LeCo...   \n",
      "513    19      35      31  J'ai reçu. Merci @erwangto https://t.co/Vn91yi...   \n",
      "\n",
      "                       user_id                 name      screen_name  \\\n",
      "0         Bénédicte TILLOY 🎨 📝              Btilloy            10183   \n",
      "1                            H              512017h              302   \n",
      "2                     1.27E+18  CM Girl�?Gracicious               57   \n",
      "3    Amelie ( Compte secours )       amelie_secours               49   \n",
      "4    Amelie ( Compte secours )       amelie_secours               49   \n",
      "..                         ...                  ...              ...   \n",
      "509                 4114576283        Claudinho ❤️💙     Claudinho_75   \n",
      "510                 3319383191               Nycthé     FougueEsprit   \n",
      "511                   15749664            Nawal  ⚡️           Nawal_   \n",
      "512                   1.25E+18    Michèle LEMONNIER  MichleLEMONNIE3   \n",
      "513                   8.28E+17                wagmi          Hedzer8   \n",
      "\n",
      "     follower_count  status_count  lang        lat       lng  grid  \n",
      "0             26476           NaN   NaN  48.894960  2.229230  2,10  \n",
      "1             12371           NaN   NaN  48.894692  2.229349  2,10  \n",
      "2              2537           NaN   NaN  48.887209  2.230277   3,1  \n",
      "3              1637           NaN   NaN  48.890401  2.230397   3,5  \n",
      "4              1637           NaN   NaN  48.890321  2.230553   3,5  \n",
      "..              ...           ...   ...        ...       ...   ...  \n",
      "509             820       16152.0   NaN  48.897102  2.236099  7,12  \n",
      "510            3332        5359.0   NaN  48.897124  2.232674  4,12  \n",
      "511            3839       83507.0   NaN  48.897206  2.237986  8,12  \n",
      "512             260       10928.0   NaN  48.897215  2.227367  1,12  \n",
      "513              29        5624.0   NaN  48.897277  2.227940  1,12  \n",
      "\n",
      "[514 rows x 19 columns]\n"
     ]
    }
   ],
   "source": [
    "LD_tweets = pd.read_csv(\"tweets_29_1_2022.csv\",encoding='utf-8')\n",
    "print(LD_tweets)"
   ]
  },
  {
   "cell_type": "code",
   "execution_count": 7,
   "id": "affc636d",
   "metadata": {},
   "outputs": [
    {
     "data": {
      "text/html": [
       "\n",
       "        <iframe\n",
       "            width=\"1000\"\n",
       "            height=\"900\"\n",
       "            src=\"tweets.html\"\n",
       "            frameborder=\"0\"\n",
       "            allowfullscreen\n",
       "            \n",
       "        ></iframe>\n",
       "        "
      ],
      "text/plain": [
       "<IPython.lib.display.IFrame at 0x20d89c0e070>"
      ]
     },
     "metadata": {},
     "output_type": "display_data"
    }
   ],
   "source": [
    "# create map, LD_tweets['text']\n",
    "# set location that make Hong Kong at the centre of the web page\n",
    "# set zoom_start = 12 for better visualization\n",
    "map = folium.Map(tiles='cartodbpositron', location=[48.88614492, 2.225888888], zoom_start=20)\n",
    "\n",
    "# add markers to the map to show the districts\n",
    "markers_colors = []\n",
    "for lat, lon, grd in zip(LD_tweets['lat'], LD_tweets['lng'],LD_tweets['grid']):\n",
    "    label = folium.Popup(str(grd))\n",
    "    folium.CircleMarker(\n",
    "        [lat, lon],\n",
    "        radius=6,\n",
    "        popup=label,\n",
    "        fill=True,\n",
    "        fill_color='#FFFFFF',\n",
    "        fill_opacity=0.7).add_to(map)\n",
    "       \n",
    "map.save('tweets.html')\n",
    "display(IFrame('tweets.html', width = 1000, height = 900))"
   ]
  },
  {
   "cell_type": "code",
   "execution_count": 8,
   "id": "c2452b81",
   "metadata": {},
   "outputs": [
    {
     "name": "stdout",
     "output_type": "stream",
     "text": [
      "1,12\n"
     ]
    }
   ],
   "source": [
    "print(grd)"
   ]
  },
  {
   "cell_type": "code",
   "execution_count": null,
   "id": "f923eaaa",
   "metadata": {},
   "outputs": [],
   "source": []
  }
 ],
 "metadata": {
  "kernelspec": {
   "display_name": "site",
   "language": "python",
   "name": "site"
  },
  "language_info": {
   "codemirror_mode": {
    "name": "ipython",
    "version": 3
   },
   "file_extension": ".py",
   "mimetype": "text/x-python",
   "name": "python",
   "nbconvert_exporter": "python",
   "pygments_lexer": "ipython3",
   "version": "3.9.7"
  }
 },
 "nbformat": 4,
 "nbformat_minor": 5
}
